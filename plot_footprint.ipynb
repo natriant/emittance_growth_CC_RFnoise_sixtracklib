{
 "cells": [
  {
   "cell_type": "markdown",
   "metadata": {},
   "source": [
    "### Compute the detuning with amplitude\n",
    "\n",
    "- Compute the detuning with amplitude from the turn by turn data using NAFF.\n",
    "- The motion is restricted in the horizontal or vertical plane (1D motion).\n"
   ]
  },
  {
   "cell_type": "code",
   "execution_count": 99,
   "metadata": {},
   "outputs": [],
   "source": [
    "import pickle\n",
    "import numpy as np\n",
    "from math import *\n",
    "import NAFFlib as pnf\n",
    "import matplotlib.pyplot as plt"
   ]
  },
  {
   "cell_type": "code",
   "execution_count": 100,
   "metadata": {},
   "outputs": [],
   "source": [
    "params = {'legend.fontsize': 20,\n",
    "          'figure.figsize': (9.5, 8.5),\n",
    "          'axes.labelsize': 27,\n",
    "          'axes.titlesize': 23,\n",
    "          'xtick.labelsize': 27,\n",
    "          'ytick.labelsize': 27,\n",
    "          'image.cmap': 'jet',\n",
    "          'lines.linewidth': 1,\n",
    "          'lines.markersize': 5,\n",
    "          'font.family': 'sans-serif'}\n",
    "\n",
    "plt.rc('text', usetex=False)\n",
    "plt.rc('font', family='serif')\n",
    "plt.rcParams.update(params)"
   ]
  },
  {
   "cell_type": "markdown",
   "metadata": {},
   "source": [
    "#### Simulation parameters"
   ]
  },
  {
   "cell_type": "code",
   "execution_count": 105,
   "metadata": {},
   "outputs": [],
   "source": [
    "path_to_study = '/afs/cern.ch/work/n/natriant/private/sixtracklib_example_crabcavity/two_CCs_scheme'\n",
    "n_turns = 1000\n",
    "n_particles = 900\n",
    "# The following parameters are obtained from the twiss.tfs MAD-X file\n",
    "Qx0 = 0.13 # decimal part of the nominal tune\n",
    "Qy0 = 0.18\n",
    "\n",
    "# get beta functions from twiss table\n",
    "with open(path_to_study + '/input/twiss_at_start.pkl', 'rb') as fid:\n",
    "    twiss_at_start = pickle.load(fid)\n",
    "\n",
    "\n",
    "beta_x = twiss_at_start['betx']\n",
    "beta_y = twiss_at_start['bety']\n",
    "alpha_x = twiss_at_start['alfx']\n",
    "alpha_y = twiss_at_start['alfy']\n",
    "plane_of_study = 'y' # 'x'"
   ]
  },
  {
   "cell_type": "code",
   "execution_count": 106,
   "metadata": {},
   "outputs": [],
   "source": [
    "data_file_name = '/output/tbt.pkl'"
   ]
  },
  {
   "cell_type": "code",
   "execution_count": 107,
   "metadata": {},
   "outputs": [],
   "source": [
    "my_dict = pickle.load( open( path_to_study+data_file_name, 'rb'))"
   ]
  },
  {
   "cell_type": "code",
   "execution_count": 108,
   "metadata": {},
   "outputs": [
    {
     "data": {
      "text/plain": [
       "dict_keys(['turn', 'time', 'intensity', 'neps_x', 'neps_y', 'x', 'px', 'y', 'py', 'sigma', 'delta'])"
      ]
     },
     "execution_count": 108,
     "metadata": {},
     "output_type": "execute_result"
    }
   ],
   "source": [
    "my_dict.keys()"
   ]
  },
  {
   "cell_type": "code",
   "execution_count": 109,
   "metadata": {},
   "outputs": [
    {
     "data": {
      "text/plain": [
       "[<matplotlib.lines.Line2D at 0x7f5a8d291a90>]"
      ]
     },
     "execution_count": 109,
     "metadata": {},
     "output_type": "execute_result"
    },
    {
     "data": {
      "image/png": "[encoded data removed]",
      "text/plain": [
       "<Figure size 684x612 with 1 Axes>"
      ]
     },
     "metadata": {
      "needs_background": "light"
     },
     "output_type": "display_data"
    }
   ],
   "source": [
    "plt.plot(my_dict['x'][0], my_dict['y'][0], '.')"
   ]
  },
  {
   "cell_type": "markdown",
   "metadata": {},
   "source": [
    "### Tune shift with amplitude\n",
    "- The tbt data obtained from the simulation are grouped with respect to turns.\n",
    "- We need to group them in a list for each particle.\n",
    "\n",
    "\n",
    "(u, pu) <--> (x, px) or (y, py)"
   ]
  },
  {
   "cell_type": "code",
   "execution_count": 110,
   "metadata": {},
   "outputs": [],
   "source": [
    "x_data = {}\n",
    "px_data = {}\n",
    "y_data = {}\n",
    "py_data = {}\n",
    "for particle in range(n_particles):\n",
    "    x_data[particle] = []\n",
    "    px_data[particle] = []\n",
    "    y_data[particle] = []\n",
    "    py_data[particle] = []"
   ]
  },
  {
   "cell_type": "code",
   "execution_count": 111,
   "metadata": {},
   "outputs": [],
   "source": [
    "# maybe even 100 turns are enough\n",
    "for particle in range(n_particles):\n",
    "    for turn in range(n_turns):\n",
    "        x_data[particle].append(my_dict['x'][turn][particle])\n",
    "        px_data[particle].append(my_dict['px'][turn][particle])\n",
    "        y_data[particle].append(my_dict['y'][turn][particle])\n",
    "        py_data[particle].append(my_dict['py'][turn][particle])"
   ]
  },
  {
   "cell_type": "markdown",
   "metadata": {},
   "source": [
    "#### Test the longitudinal plane"
   ]
  },
  {
   "cell_type": "code",
   "execution_count": 112,
   "metadata": {},
   "outputs": [
    {
     "name": "stdout",
     "output_type": "stream",
     "text": [
      "27\n"
     ]
    }
   ],
   "source": [
    "my_x_index = np.where(my_dict['{}'.format(plane_of_study)][0] == np.amin(my_dict['{}'.format(plane_of_study)][0]))[0][0]\n",
    "print(my_x_index)"
   ]
  },
  {
   "cell_type": "markdown",
   "metadata": {},
   "source": [
    "#### Identify wheather there are any lost particles"
   ]
  },
  {
   "cell_type": "code",
   "execution_count": 113,
   "metadata": {},
   "outputs": [],
   "source": [
    "x_lost_particles = []\n",
    "Qx_list = []\n",
    "y_lost_particles = []\n",
    "Qy_list = []\n",
    "\n",
    "for particle in range(n_particles):\n",
    "    if np.isnan(x_data[particle]).any() or np.isnan(px_data[particle]).any():\n",
    "        x_lost_particles.append(particle)\n",
    "        print('particle {} lost'.format(particle))\n",
    "    else:        \n",
    "        signal_x = x_data[particle]\n",
    "        Qx_list.append(pnf.get_tune(np.array(signal_x)))\n",
    "        \n",
    "    if np.isnan(y_data[particle]).any() or np.isnan(py_data[particle]).any():\n",
    "        y_lost_particles.append(particle)\n",
    "        print('particle {} lost'.format(particle))\n",
    "    else:        \n",
    "        signal_y = y_data[particle]\n",
    "        Qy_list.append(pnf.get_tune(np.array(signal_y)))"
   ]
  },
  {
   "cell_type": "code",
   "execution_count": 114,
   "metadata": {},
   "outputs": [
    {
     "data": {
      "text/plain": [
       "0.00040000000000001146"
      ]
     },
     "execution_count": 114,
     "metadata": {},
     "output_type": "execute_result"
    }
   ],
   "source": [
    "0.1801-0.1797"
   ]
  },
  {
   "cell_type": "code",
   "execution_count": 115,
   "metadata": {},
   "outputs": [
    {
     "data": {
      "text/plain": [
       "Text(0, 0.5, 'Qy')"
      ]
     },
     "execution_count": 115,
     "metadata": {},
     "output_type": "execute_result"
    },
    {
     "data": {
      "image/png": "[encoded data removed]",
      "text/plain": [
       "<Figure size 684x612 with 1 Axes>"
      ]
     },
     "metadata": {
      "needs_background": "light"
     },
     "output_type": "display_data"
    }
   ],
   "source": [
    "plt.scatter(Qx_list, Qy_list)\n",
    "plt.ylim(0.1797, 0.1797+0.0004)\n",
    "plt.xlim(0.128, 0.128+0.004)\n",
    "plt.xlabel('Qx')\n",
    "plt.ylabel('Qy')"
   ]
  },
  {
   "cell_type": "code",
   "execution_count": 95,
   "metadata": {},
   "outputs": [
    {
     "data": {
      "text/plain": [
       "17.528732916927137"
      ]
     },
     "execution_count": 95,
     "metadata": {},
     "output_type": "execute_result"
    }
   ],
   "source": [
    "1e5*(0.18-min(Qy_list))"
   ]
  },
  {
   "cell_type": "code",
   "execution_count": null,
   "metadata": {},
   "outputs": [],
   "source": []
  }
 ],
 "metadata": {
  "kernelspec": {
   "display_name": "Python 3",
   "language": "python",
   "name": "python3"
  },
  "language_info": {
   "codemirror_mode": {
    "name": "ipython",
    "version": 3
   },
   "file_extension": ".py",
   "mimetype": "text/x-python",
   "name": "python",
   "nbconvert_exporter": "python",
   "pygments_lexer": "ipython3",
   "version": "3.7.4"
  }
 },
 "nbformat": 4,
 "nbformat_minor": 4
}
