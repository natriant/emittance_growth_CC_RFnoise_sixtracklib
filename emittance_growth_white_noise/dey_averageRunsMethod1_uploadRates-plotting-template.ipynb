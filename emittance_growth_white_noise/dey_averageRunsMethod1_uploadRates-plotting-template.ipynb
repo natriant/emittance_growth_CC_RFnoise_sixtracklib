{
 "cells": [
  {
   "cell_type": "markdown",
   "metadata": {},
   "source": [
    "### Plot emittance growth rates for different studies, uploaded from a pickle file"
   ]
  },
  {
   "cell_type": "code",
   "execution_count": 8,
   "metadata": {},
   "outputs": [],
   "source": [
    "import sys\n",
    "sys.path.append('../../utils/')\n",
    "from cmptTheoreticalEmitGrowth import *\n",
    "from bunchLengthConversions import *\n",
    "import pickle\n",
    "import numpy as np\n",
    "import matplotlib.pyplot as plt"
   ]
  },
  {
   "cell_type": "markdown",
   "metadata": {},
   "source": [
    "#### Plotting paramerters"
   ]
  },
  {
   "cell_type": "code",
   "execution_count": 9,
   "metadata": {},
   "outputs": [],
   "source": [
    "params = {'legend.fontsize': 20,\n",
    "          'figure.figsize': (9.5, 8.5),\n",
    "          'axes.labelsize': 27,\n",
    "          'axes.titlesize': 23,\n",
    "          'xtick.labelsize': 27,\n",
    "          'ytick.labelsize': 27,\n",
    "          'image.cmap': 'jet',\n",
    "          'lines.linewidth': 1,\n",
    "          'lines.markersize': 10,\n",
    "          'font.family': 'sans-serif'}\n",
    "\n",
    "plt.rc('text', usetex=False)\n",
    "plt.rc('font', family='serif')\n",
    "plt.rcParams.update(params)"
   ]
  },
  {
   "cell_type": "markdown",
   "metadata": {},
   "source": [
    "#### 1) Define study parameters"
   ]
  },
  {
   "cell_type": "code",
   "execution_count": 10,
   "metadata": {},
   "outputs": [],
   "source": [
    "n_runs = 4 # number of runs that the simulation was repeated\n",
    "turns = 5e5\n",
    "f_rev = 43375.86 # [Hz] The revolution frequency of the machine \n",
    "turns_list = np.arange(0,turns)\n",
    "time = turns_list/f_rev # [s], type: list"
   ]
  },
  {
   "cell_type": "code",
   "execution_count": 18,
   "metadata": {},
   "outputs": [
    {
     "name": "stdout",
     "output_type": "stream",
     "text": [
      "[0.0, 0.5, 1.0, 1.5, 2.0, 2.5, 3.0, 3.5, 4.0, 4.5, 5.0]\n"
     ]
    }
   ],
   "source": [
    "my_variables = list(np.arange(0.0, 5.5, 0.5))\n",
    "# my_variables = ['']\n",
    "print(my_variables)"
   ]
  },
  {
   "cell_type": "markdown",
   "metadata": {},
   "source": [
    "#### 2) Load data"
   ]
  },
  {
   "cell_type": "code",
   "execution_count": 19,
   "metadata": {},
   "outputs": [],
   "source": [
    "path_to_data = './'\n",
    "study_name = 'deyRates_globalCC2deg90_1MV_realNoise_PNCoast3PartC_noKlofKlod_5e5turns_Nb20k_b3b5b7_QpyQpxIterate_v2'\n",
    "noise_type = 'PN'\n",
    "\n",
    "my_df = pickle.load( open(path_to_data+study_name+'.pkl', \"rb\" ) )"
   ]
  },
  {
   "cell_type": "code",
   "execution_count": 20,
   "metadata": {},
   "outputs": [
    {
     "data": {
      "text/html": [
       "<div>\n",
       "<style scoped>\n",
       "    .dataframe tbody tr th:only-of-type {\n",
       "        vertical-align: middle;\n",
       "    }\n",
       "\n",
       "    .dataframe tbody tr th {\n",
       "        vertical-align: top;\n",
       "    }\n",
       "\n",
       "    .dataframe thead th {\n",
       "        text-align: right;\n",
       "    }\n",
       "</style>\n",
       "<table border=\"1\" class=\"dataframe\">\n",
       "  <thead>\n",
       "    <tr style=\"text-align: right;\">\n",
       "      <th></th>\n",
       "      <th>QxQy_0.0</th>\n",
       "      <th>QxQy_0.5</th>\n",
       "      <th>QxQy_1.0</th>\n",
       "      <th>QxQy_1.5</th>\n",
       "      <th>QxQy_2.0</th>\n",
       "      <th>QxQy_2.5</th>\n",
       "      <th>QxQy_3.0</th>\n",
       "      <th>QxQy_3.5</th>\n",
       "      <th>QxQy_4.0</th>\n",
       "      <th>QxQy_4.5</th>\n",
       "      <th>QxQy_5.0</th>\n",
       "    </tr>\n",
       "  </thead>\n",
       "  <tbody>\n",
       "    <tr>\n",
       "      <th>m</th>\n",
       "      <td>[1.8579607333418005e-08, 1.9118811879079198e-0...</td>\n",
       "      <td>[1.768397702440738e-08, 1.868086311955104e-08,...</td>\n",
       "      <td>[1.9506980235073217e-08, 1.926036013700152e-08...</td>\n",
       "      <td>[1.8234239656554322e-08, 1.834801369979531e-08...</td>\n",
       "      <td>[1.7324692669549117e-08, 1.9353467142039512e-0...</td>\n",
       "      <td>[1.7711553399245403e-08, 1.9545688261733622e-0...</td>\n",
       "      <td>[1.8539150911256004e-08, 1.9695956168538926e-0...</td>\n",
       "      <td>[1.778888733527382e-08, 1.8775675810436506e-08...</td>\n",
       "      <td>[1.7748155273274363e-08, 1.9766605957840362e-0...</td>\n",
       "      <td>[1.9234902839582404e-08, 1.8202686017111465e-0...</td>\n",
       "      <td>[1.7837606015837998e-08, 1.9099345816666345e-0...</td>\n",
       "    </tr>\n",
       "    <tr>\n",
       "      <th>b</th>\n",
       "      <td>[2.0736063809427013e-06, 2.0379210959833684e-0...</td>\n",
       "      <td>[2.0687533520282606e-06, 2.0778008771302922e-0...</td>\n",
       "      <td>[2.075484068673724e-06, 2.0232483272944422e-06...</td>\n",
       "      <td>[2.0743603352154786e-06, 2.044936294284583e-06...</td>\n",
       "      <td>[2.066364118206511e-06, 2.0557658615531337e-06...</td>\n",
       "      <td>[2.0611336725207108e-06, 2.044809219868234e-06...</td>\n",
       "      <td>[2.062261869127865e-06, 2.0663474834944483e-06...</td>\n",
       "      <td>[2.056445883412511e-06, 2.058843774440067e-06,...</td>\n",
       "      <td>[2.0505700418319066e-06, 2.061199876889767e-06...</td>\n",
       "      <td>[2.066887892855478e-06, 2.086955542010746e-06,...</td>\n",
       "      <td>[2.0801530562069598e-06, 2.0561552602894708e-0...</td>\n",
       "    </tr>\n",
       "    <tr>\n",
       "      <th>err</th>\n",
       "      <td>[2.112164252429388e-12, 2.0284595781221647e-12...</td>\n",
       "      <td>[2.001746376785059e-12, 1.886715029104071e-12,...</td>\n",
       "      <td>[2.4660237856247305e-12, 2.2053521447341417e-1...</td>\n",
       "      <td>[2.26430615805821e-12, 2.1995690312772785e-12,...</td>\n",
       "      <td>[2.126066427652568e-12, 1.8412061109911795e-12...</td>\n",
       "      <td>[1.834704062157226e-12, 2.641402686535352e-12,...</td>\n",
       "      <td>[2.5582299616206412e-12, 2.2005390279897907e-1...</td>\n",
       "      <td>[2.652713262407435e-12, 2.3804388412447497e-12...</td>\n",
       "      <td>[2.5680022506252876e-12, 2.41017617363454e-12,...</td>\n",
       "      <td>[3.164346963806826e-12, 2.9002405110106093e-12...</td>\n",
       "      <td>[2.874022379878218e-12, 2.764804067364327e-12,...</td>\n",
       "    </tr>\n",
       "  </tbody>\n",
       "</table>\n",
       "</div>"
      ],
      "text/plain": [
       "                                              QxQy_0.0  \\\n",
       "m    [1.8579607333418005e-08, 1.9118811879079198e-0...   \n",
       "b    [2.0736063809427013e-06, 2.0379210959833684e-0...   \n",
       "err  [2.112164252429388e-12, 2.0284595781221647e-12...   \n",
       "\n",
       "                                              QxQy_0.5  \\\n",
       "m    [1.768397702440738e-08, 1.868086311955104e-08,...   \n",
       "b    [2.0687533520282606e-06, 2.0778008771302922e-0...   \n",
       "err  [2.001746376785059e-12, 1.886715029104071e-12,...   \n",
       "\n",
       "                                              QxQy_1.0  \\\n",
       "m    [1.9506980235073217e-08, 1.926036013700152e-08...   \n",
       "b    [2.075484068673724e-06, 2.0232483272944422e-06...   \n",
       "err  [2.4660237856247305e-12, 2.2053521447341417e-1...   \n",
       "\n",
       "                                              QxQy_1.5  \\\n",
       "m    [1.8234239656554322e-08, 1.834801369979531e-08...   \n",
       "b    [2.0743603352154786e-06, 2.044936294284583e-06...   \n",
       "err  [2.26430615805821e-12, 2.1995690312772785e-12,...   \n",
       "\n",
       "                                              QxQy_2.0  \\\n",
       "m    [1.7324692669549117e-08, 1.9353467142039512e-0...   \n",
       "b    [2.066364118206511e-06, 2.0557658615531337e-06...   \n",
       "err  [2.126066427652568e-12, 1.8412061109911795e-12...   \n",
       "\n",
       "                                              QxQy_2.5  \\\n",
       "m    [1.7711553399245403e-08, 1.9545688261733622e-0...   \n",
       "b    [2.0611336725207108e-06, 2.044809219868234e-06...   \n",
       "err  [1.834704062157226e-12, 2.641402686535352e-12,...   \n",
       "\n",
       "                                              QxQy_3.0  \\\n",
       "m    [1.8539150911256004e-08, 1.9695956168538926e-0...   \n",
       "b    [2.062261869127865e-06, 2.0663474834944483e-06...   \n",
       "err  [2.5582299616206412e-12, 2.2005390279897907e-1...   \n",
       "\n",
       "                                              QxQy_3.5  \\\n",
       "m    [1.778888733527382e-08, 1.8775675810436506e-08...   \n",
       "b    [2.056445883412511e-06, 2.058843774440067e-06,...   \n",
       "err  [2.652713262407435e-12, 2.3804388412447497e-12...   \n",
       "\n",
       "                                              QxQy_4.0  \\\n",
       "m    [1.7748155273274363e-08, 1.9766605957840362e-0...   \n",
       "b    [2.0505700418319066e-06, 2.061199876889767e-06...   \n",
       "err  [2.5680022506252876e-12, 2.41017617363454e-12,...   \n",
       "\n",
       "                                              QxQy_4.5  \\\n",
       "m    [1.9234902839582404e-08, 1.8202686017111465e-0...   \n",
       "b    [2.066887892855478e-06, 2.086955542010746e-06,...   \n",
       "err  [3.164346963806826e-12, 2.9002405110106093e-12...   \n",
       "\n",
       "                                              QxQy_5.0  \n",
       "m    [1.7837606015837998e-08, 1.9099345816666345e-0...  \n",
       "b    [2.0801530562069598e-06, 2.0561552602894708e-0...  \n",
       "err  [2.874022379878218e-12, 2.764804067364327e-12,...  "
      ]
     },
     "execution_count": 20,
     "metadata": {},
     "output_type": "execute_result"
    }
   ],
   "source": [
    "my_df"
   ]
  },
  {
   "cell_type": "code",
   "execution_count": 21,
   "metadata": {},
   "outputs": [],
   "source": [
    "my_df_keys = list(my_df.keys())"
   ]
  },
  {
   "cell_type": "code",
   "execution_count": 22,
   "metadata": {},
   "outputs": [
    {
     "data": {
      "text/plain": [
       "[1.778888733527382e-08,\n",
       " 1.8775675810436506e-08,\n",
       " 1.8909112427597114e-08,\n",
       " 2.0516065687565003e-08]"
      ]
     },
     "execution_count": 22,
     "metadata": {},
     "output_type": "execute_result"
    }
   ],
   "source": [
    "my_df[my_df_keys[7]]['m']"
   ]
  },
  {
   "cell_type": "code",
   "execution_count": 23,
   "metadata": {},
   "outputs": [
    {
     "data": {
      "text/plain": [
       "Text(0.5, 0, 'Vertical chromaticity, Qpy')"
      ]
     },
     "execution_count": 23,
     "metadata": {},
     "output_type": "execute_result"
    },
    {
     "data": {
      "image/png": "[encoded data removed]",
      "text/plain": [
       "<Figure size 684x612 with 1 Axes>"
      ]
     },
     "metadata": {
      "needs_background": "light"
     },
     "output_type": "display_data"
    }
   ],
   "source": [
    "for i, key in enumerate(my_df_keys):\n",
    "    plt.errorbar(my_variables[i], np.mean(my_df[my_df_keys[i]]['m'])*1e9, yerr=np.std(my_df[my_df_keys[i]]['m'])*1e9, marker='o',  c='k')\n",
    "    \n",
    "plt.ylim(16, 21)\n",
    "plt.grid(linestyle='dashed')\n",
    "plt.ylabel(r'$\\mathrm{d\\epsilon_y / dt \\ (nm/s)}$')\n",
    "plt.xlabel('Vertical chromaticity, Qpy')"
   ]
  },
  {
   "cell_type": "markdown",
   "metadata": {},
   "source": [
    "### Compute the theoretically expected growth "
   ]
  },
  {
   "cell_type": "code",
   "execution_count": 24,
   "metadata": {},
   "outputs": [
    {
     "name": "stdout",
     "output_type": "stream",
     "text": [
      "1.42e-10 3.99e-11\n"
     ]
    }
   ],
   "source": [
    "# Machine parameters\n",
    "betay = 73 # 73 m at CC2, 76 m at CC1\n",
    "Vcc = 1e6 # V\n",
    "Eb = 270e9 # eV\n",
    "beta_0 = 0.999999\n",
    "gamma_0 = 287.7\n",
    "sigma_z = 0.139 # m\n",
    "f_CC = 400.789e6 # CC frequency in Hz\n",
    "clight = 299792458 # m/s\n",
    "circumference = 6911.5623\n",
    "frev = clight/circumference # Hz\n",
    "A_phase = 1e-8 # rms kick in the simulation of the phase noise\n",
    "A_amplitude = 0 # rms kick in the simulation of the amplitude noise\n",
    "scale_factor = Eb/Vcc # scaling factor to rms noise, σ\n",
    "# Compute the PSD in rad^2/Hz and V^2/Hz\n",
    "PSD_phi = (A_phase * scale_factor)**2/frev # rad^2/Hz\n",
    "PSD_phi = 1.42e-10\n",
    "#PSD_phi = 1.4e-10\n",
    "PSD_A = 3.99e-11 #(A_amplitude * scale_factor)**2/frev # V^2/Hz\n",
    "print(PSD_phi, PSD_A)"
   ]
  },
  {
   "cell_type": "code",
   "execution_count": 25,
   "metadata": {},
   "outputs": [
    {
     "name": "stdout",
     "output_type": "stream",
     "text": [
      "CDeltaPhi = 0.5327231543595903, CDeltaA = 0.23363842282020486\n",
      "expected growth = 20.501405387414138 nm/s\n"
     ]
    }
   ],
   "source": [
    "# Compute the correction factor due to the bunch length\n",
    "sigma_phi = bunch_length_m_to_rad(sigma_z, clight, f_CC)\n",
    "CDeltaphi = cmpt_bunch_length_correction_factor(sigma_phi, 'PN')\n",
    "CDeltaA = cmpt_bunch_length_correction_factor(sigma_phi, 'AN')\n",
    "print('CDeltaPhi = {}, CDeltaA = {}'.format(CDeltaphi, CDeltaA))\n",
    "\n",
    "if noise_type == 'PN':\n",
    "    expected_growth = emit_growth_phase_noise(betay, Vcc, frev, Eb, CDeltaphi, PSD_phi)*beta_0*gamma_0 # m/s\n",
    "    my_color = 'C0'\n",
    "    fill_bewtween_color = 'lightblue'\n",
    "elif noise_type == 'AN':\n",
    "    expected_growth = emit_growth_amplitude_noise(betay, Vcc, frev, Eb, CDeltaA, PSD_A)*beta_0*gamma_0 # m/s\n",
    "    my_color = 'C1'\n",
    "    fill_bewtween_color = 'moccasin'\n",
    "else:\n",
    "    my_color = 'C2'\n",
    "    expected_growth_1 = emit_growth_phase_noise(betay, Vcc, frev, Eb, CDeltaphi, PSD_phi)*beta_0*gamma_0 # m/s\n",
    "    expected_growth_2 = emit_growth_amplitude_noise(betay, Vcc, frev, Eb, CDeltaA, PSD_A)*beta_0*gamma_0 # m/s\n",
    "    expected_growth = expected_growth_1 + expected_growth_2\n",
    "\n",
    "print('expected growth = {} nm/s'.format(expected_growth*1e9))"
   ]
  },
  {
   "cell_type": "code",
   "execution_count": 28,
   "metadata": {},
   "outputs": [
    {
     "data": {
      "text/plain": [
       "Text(0.5, 0, 'Vertical chromaticity, Qpy')"
      ]
     },
     "execution_count": 28,
     "metadata": {},
     "output_type": "execute_result"
    },
    {
     "data": {
      "image/png": "[encoded data removed]",
      "text/plain": [
       "<Figure size 684x612 with 1 Axes>"
      ]
     },
     "metadata": {
      "needs_background": "light"
     },
     "output_type": "display_data"
    }
   ],
   "source": [
    "for i, key in enumerate(my_df_keys):\n",
    "    plt.errorbar(my_variables[i], np.mean(my_df[my_df_keys[i]]['m'])*1e9, yerr=np.std(my_df[my_df_keys[i]]['m'])*1e9, marker='o',  c='k')\n",
    "\n",
    "plt.hlines(expected_growth*1e9, -1, 7, linestyles='dashed', linewidth=3, color='b')\n",
    "plt.xlim(-0.5, 5.5)\n",
    "plt.ylim(16, 21)\n",
    "plt.grid(linestyle='dashed')\n",
    "plt.ylabel(r'$\\mathrm{d\\epsilon_y / dt \\ (nm/s)}$')\n",
    "plt.xlabel('Vertical chromaticity, Qpy')\n",
    "\n",
    "#plt.savefig('dey_Qy.png')"
   ]
  },
  {
   "cell_type": "markdown",
   "metadata": {},
   "source": [
    "compute tune spread from chroma and octupoles and chromatic sextupoles "
   ]
  },
  {
   "cell_type": "markdown",
   "metadata": {},
   "source": [
    "chromatic effect is not importnat, the detuning from the chromatic sextupoles is differnet at each case ??"
   ]
  },
  {
   "cell_type": "code",
   "execution_count": null,
   "metadata": {},
   "outputs": [],
   "source": []
  }
 ],
 "metadata": {
  "kernelspec": {
   "display_name": "Python 3",
   "language": "python",
   "name": "python3"
  },
  "language_info": {
   "codemirror_mode": {
    "name": "ipython",
    "version": 3
   },
   "file_extension": ".py",
   "mimetype": "text/x-python",
   "name": "python",
   "nbconvert_exporter": "python",
   "pygments_lexer": "ipython3",
   "version": "3.7.3"
  }
 },
 "nbformat": 4,
 "nbformat_minor": 4
}
